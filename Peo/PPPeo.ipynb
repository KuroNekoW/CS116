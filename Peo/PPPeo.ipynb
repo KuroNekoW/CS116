{
 "cells": [
  {
   "cell_type": "code",
   "execution_count": 1,
   "id": "3e810ae9",
   "metadata": {},
   "outputs": [],
   "source": [
    "import polars as pl\n",
    "import numpy as np\n",
    "import matplotlib.pyplot as plt\n",
    "import seaborn as sns\n",
    "import warnings\n",
    "warnings.filterwarnings('ignore')\n",
    "\n",
    "plt.style.use('seaborn-v0_8')\n",
    "sns.set_palette(\"husl\")"
   ]
  },
  {
   "cell_type": "code",
   "execution_count": 2,
   "id": "7b0d742c",
   "metadata": {},
   "outputs": [
    {
     "name": "stdout",
     "output_type": "stream",
     "text": [
      "Tìm thấy 83 file parquet trong thư mục.\n",
      "\n",
      " Tổng kết:\n",
      "   sales_pers.item: 1 files\n",
      "   sales_pers.purchase: 72 files\n",
      "   sales_pers.user: 10 files\n",
      "\n",
      "Đang đọc 1 file(s) cho nhóm SALES ITEM...\n",
      "SALES ITEM loaded: 27,332 rows × 34 columns\n",
      "Đang đọc 72 file(s) cho nhóm SALES PURCHASE...\n",
      "SALES PURCHASE loaded: 35,729,825 rows × 16 columns\n",
      "Đang đọc 10 file(s) cho nhóm SALES USER...\n",
      "SALES USER loaded: 4,573,964 rows × 18 columns\n",
      "\n",
      "TỔNG KẾT DỮ LIỆU:\n",
      "sales_item_df: (27332, 34)\n",
      "sales_purchase_df: (35729825, 16)\n",
      "sales_user_df: (4573964, 18)\n"
     ]
    }
   ],
   "source": [
    "from pathlib import Path\n",
    "\n",
    "# === Đường dẫn thư mục chứa các file parquet ===\n",
    "base_path = Path(r\"D:\\recommendation dataset\")\n",
    "\n",
    "# === Tìm tất cả file parquet ===\n",
    "all_parquet_files = list(base_path.glob(\"*.parquet\"))\n",
    "print(f\"Tìm thấy {len(all_parquet_files)} file parquet trong thư mục.\")\n",
    "\n",
    "# === Phân loại file ===\n",
    "sales_item_files = []\n",
    "sales_purchase_files = []\n",
    "sales_user_files = []\n",
    "\n",
    "for file_path in all_parquet_files:\n",
    "    name = file_path.name.lower()\n",
    "    if \"sales_pers.item\" in name:\n",
    "        sales_item_files.append(file_path)\n",
    "    elif \"sales_pers.purchase\" in name or \"sales_pers.purchase_history_daily\" in name:\n",
    "        sales_purchase_files.append(file_path)\n",
    "    elif \"sales_pers.user\" in name:\n",
    "        sales_user_files.append(file_path)\n",
    "\n",
    "print(f\"\"\"\n",
    " Tổng kết:\n",
    "   sales_pers.item: {len(sales_item_files)} files\n",
    "   sales_pers.purchase: {len(sales_purchase_files)} files\n",
    "   sales_pers.user: {len(sales_user_files)} files\n",
    "\"\"\")\n",
    "\n",
    "# === Đọc tất cả files của mỗi nhóm bằng Polars ===\n",
    "def read_parquet_group(file_list, group_name):\n",
    "    if not file_list:\n",
    "        print(f\"Không có file nào cho nhóm {group_name}\")\n",
    "        return None\n",
    "    \n",
    "    print(f\"Đang đọc {len(file_list)} file(s) cho nhóm {group_name}...\")\n",
    "    \n",
    "    # Polars cho phép đọc nhiều file cùng lúc chỉ bằng 1 dòng\n",
    "    df = pl.read_parquet(file_list)\n",
    "    \n",
    "    print(f\"{group_name} loaded: {df.shape[0]:,} rows × {df.shape[1]} columns\")\n",
    "    return df\n",
    "\n",
    "sales_item_df = read_parquet_group(sales_item_files, \"SALES ITEM\")\n",
    "sales_purchase_df = read_parquet_group(sales_purchase_files, \"SALES PURCHASE\")\n",
    "sales_user_df = read_parquet_group(sales_user_files, \"SALES USER\")\n",
    "\n",
    "# === Tổng kết ===\n",
    "print(\"\\nTỔNG KẾT DỮ LIỆU:\")\n",
    "if sales_item_df is not None:\n",
    "    print(f\"sales_item_df: {sales_item_df.shape}\")\n",
    "if sales_purchase_df is not None:\n",
    "    print(f\"sales_purchase_df: {sales_purchase_df.shape}\")\n",
    "if sales_user_df is not None:\n",
    "    print(f\"sales_user_df: {sales_user_df.shape}\")"
   ]
  },
  {
   "cell_type": "code",
   "execution_count": 3,
   "id": "27b5d061",
   "metadata": {},
   "outputs": [],
   "source": [
    "datasets = {\n",
    "    \"SALES ITEM\": sales_item_df,\n",
    "    \"SALES PURCHASE\": sales_purchase_df,\n",
    "    \"SALES USER\": sales_user_df\n",
    "}"
   ]
  }
 ],
 "metadata": {
  "kernelspec": {
   "display_name": "Python 3",
   "language": "python",
   "name": "python3"
  },
  "language_info": {
   "codemirror_mode": {
    "name": "ipython",
    "version": 3
   },
   "file_extension": ".py",
   "mimetype": "text/x-python",
   "name": "python",
   "nbconvert_exporter": "python",
   "pygments_lexer": "ipython3",
   "version": "3.13.7"
  }
 },
 "nbformat": 4,
 "nbformat_minor": 5
}
