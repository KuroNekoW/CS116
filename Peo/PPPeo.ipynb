{
 "cells": [
  {
   "cell_type": "markdown",
   "id": "2b3722a7",
   "metadata": {},
   "source": [
    "Lập trình Python cho Máy học - CS116.Q11"
   ]
  },
  {
   "cell_type": "markdown",
   "id": "0f4adc2c",
   "metadata": {},
   "source": [
    "ĐỒ ÁN: Tiền xử lý dữ liệu"
   ]
  },
  {
   "cell_type": "code",
   "execution_count": 24,
   "id": "3e810ae9",
   "metadata": {},
   "outputs": [],
   "source": [
    "# Import thư viện cần thiết\n",
    "import polars as pl\n",
    "import numpy as np\n",
    "import matplotlib.pyplot as plt\n",
    "import seaborn as sns\n",
    "import warnings\n",
    "from pathlib import Path\n",
    "import re\n"
   ]
  },
  {
   "cell_type": "markdown",
   "id": "8db89ee3",
   "metadata": {},
   "source": [
    "CHỌN ĐƯỜNG DẪN"
   ]
  },
  {
   "cell_type": "code",
   "execution_count": 25,
   "id": "64cacbc2",
   "metadata": {},
   "outputs": [],
   "source": [
    "# Đường dẫn thư mục chứa các file parquet\n",
    "base_path = Path(r\"D:\\recommendation dataset\")"
   ]
  },
  {
   "cell_type": "markdown",
   "id": "b7625750",
   "metadata": {},
   "source": [
    "ĐỌC DỮ LIỆU SƯƠNG SƯƠNG"
   ]
  },
  {
   "cell_type": "code",
   "execution_count": 26,
   "id": "7b0d742c",
   "metadata": {},
   "outputs": [
    {
     "name": "stdout",
     "output_type": "stream",
     "text": [
      "Tìm thấy 83 file parquet trong thư mục.\n",
      "\n",
      " Tổng kết:\n",
      "   sales_pers.item: 1 files\n",
      "   sales_pers.purchase: 72 files\n",
      "   sales_pers.user: 10 files\n",
      "\n",
      "Đang đọc 1 file(s) cho nhóm SALES ITEM...\n",
      "SALES ITEM loaded: 27,332 rows × 34 columns\n",
      "Đang đọc 72 file(s) cho nhóm SALES PURCHASE...\n",
      "SALES PURCHASE loaded: 35,729,825 rows × 16 columns\n",
      "Đang đọc 10 file(s) cho nhóm SALES USER...\n",
      "SALES USER loaded: 4,573,964 rows × 18 columns\n",
      "\n",
      "TỔNG KẾT DỮ LIỆU:\n",
      "sales_item_df: (27332, 34)\n",
      "sales_purchase_df: (35729825, 16)\n",
      "sales_user_df: (4573964, 18)\n"
     ]
    }
   ],
   "source": [
    "# Tắt cảnh báo không cần thiết\n",
    "warnings.filterwarnings('ignore')\n",
    "\n",
    "# Cài đặt style cho biểu đồ\n",
    "plt.style.use('seaborn-v0_8')\n",
    "sns.set_palette(\"husl\")\n",
    "\n",
    "# Tìm tất cả file parquet trong thư mục\n",
    "all_parquet_files = list(base_path.glob(\"*.parquet\"))\n",
    "print(f\"Tìm thấy {len(all_parquet_files)} file parquet trong thư mục.\")\n",
    "\n",
    "# Phân loại file theo tên\n",
    "sales_item_files = []\n",
    "sales_purchase_files = []\n",
    "sales_user_files = []\n",
    "\n",
    "for file_path in all_parquet_files:\n",
    "    name = file_path.name.lower()\n",
    "    \n",
    "    if \"sales_pers.item\" in name:\n",
    "        sales_item_files.append(file_path)\n",
    "    elif \"sales_pers.purchase\" in name or \"sales_pers.purchase_history_daily\" in name:\n",
    "        sales_purchase_files.append(file_path)\n",
    "    elif \"sales_pers.user\" in name:\n",
    "        sales_user_files.append(file_path)\n",
    "\n",
    "# In kết quả phân loại\n",
    "print(f\"\"\"\n",
    " Tổng kết:\n",
    "   sales_pers.item: {len(sales_item_files)} files\n",
    "   sales_pers.purchase: {len(sales_purchase_files)} files\n",
    "   sales_pers.user: {len(sales_user_files)} files\n",
    "\"\"\")\n",
    "\n",
    "# Hàm đọc nhóm file parquet\n",
    "def read_parquet_group(file_list, group_name):\n",
    "    if not file_list:\n",
    "        print(f\"Không có file nào cho nhóm {group_name}\")\n",
    "        return None\n",
    "    \n",
    "    print(f\"Đang đọc {len(file_list)} file(s) cho nhóm {group_name}...\")\n",
    "    \n",
    "    df = pl.read_parquet(file_list)\n",
    "    \n",
    "    print(f\"{group_name} loaded: {df.shape[0]:,} rows × {df.shape[1]} columns\")\n",
    "    return df\n",
    "\n",
    "# Đọc dữ liệu từ các nhóm file\n",
    "sales_item_df = read_parquet_group(sales_item_files, \"SALES ITEM\")\n",
    "sales_purchase_df = read_parquet_group(sales_purchase_files, \"SALES PURCHASE\")\n",
    "sales_user_df = read_parquet_group(sales_user_files, \"SALES USER\")\n",
    "\n",
    "# Tổng kết dữ liệu đã đọc\n",
    "print(\"\\nTỔNG KẾT DỮ LIỆU:\")\n",
    "if sales_item_df is not None:\n",
    "    print(f\"sales_item_df: {sales_item_df.shape}\")\n",
    "if sales_purchase_df is not None:\n",
    "    print(f\"sales_purchase_df: {sales_purchase_df.shape}\")\n",
    "if sales_user_df is not None:\n",
    "    print(f\"sales_user_df: {sales_user_df.shape}\")"
   ]
  },
  {
   "cell_type": "code",
   "execution_count": 27,
   "id": "1ce156a3",
   "metadata": {},
   "outputs": [],
   "source": [
    "# Tạo dictionary chứa các DataFrame\n",
    "datasets = {\n",
    "    \"SALES ITEM\": sales_item_df,\n",
    "    \"SALES PURCHASE\": sales_purchase_df,\n",
    "    \"SALES USER\": sales_user_df\n",
    "}"
   ]
  },
  {
   "cell_type": "code",
   "execution_count": 28,
   "id": "2fcafd8c",
   "metadata": {},
   "outputs": [
    {
     "data": {
      "text/plain": [
       "'\\nfor name, df in datasets.items():\\n    if df is None:\\n        continue\\n\\n    print(f\"\\n[ {name} ]\")\\n    print(f\"Shape: {df.shape[0]:,} rows × {df.shape[1]} columns\")\\n    print(\"Columns:\", df.columns)\\n\\n    print(\"\\nThống kê tất cả các cột:\")\\n    for col in df.columns:\\n        try:\\n            # Ép kiểu về chuỗi để thống kê phổ biến\\n            col_str = df[col].cast(pl.Utf8).drop_nulls()\\n            unique_count = col_str.n_unique()\\n            most_common = col_str.value_counts().sort(\"count\", descending=True).head(1)\\n\\n            if most_common.shape[0] > 0:\\n                most_common_val = most_common[0, col]\\n                most_common_freq = most_common[0, \"count\"]\\n                print(f\" - {col}: {unique_count} giá trị duy nhất, phổ biến nhất: \\'{most_common_val}\\' ({most_common_freq} lần)\")\\n            else:\\n                print(f\" - {col}: {unique_count} giá trị duy nhất, không có giá trị phổ biến\")\\n\\n        except Exception as e:\\n            print(f\"Lỗi khi thống kê cột \\'{col}\\': {e}\")\\n'"
      ]
     },
     "execution_count": 28,
     "metadata": {},
     "output_type": "execute_result"
    }
   ],
   "source": [
    "# Thống kê tất cả các cột trong từng bảng\n",
    "# Tháo docstring (\"\"\") ra để chạy thử, nhưng khá lâu!\n",
    "# Khỏi chạy nếu không cần thiết!\n",
    "\n",
    "\"\"\"\n",
    "for name, df in datasets.items():\n",
    "    if df is None:\n",
    "        continue\n",
    "\n",
    "    print(f\"\\n[ {name} ]\")\n",
    "    print(f\"Shape: {df.shape[0]:,} rows × {df.shape[1]} columns\")\n",
    "    print(\"Columns:\", df.columns)\n",
    "\n",
    "    print(\"\\nThống kê tất cả các cột:\")\n",
    "    for col in df.columns:\n",
    "        try:\n",
    "            # Ép kiểu về chuỗi để thống kê phổ biến\n",
    "            col_str = df[col].cast(pl.Utf8).drop_nulls()\n",
    "            unique_count = col_str.n_unique()\n",
    "            most_common = col_str.value_counts().sort(\"count\", descending=True).head(1)\n",
    "\n",
    "            if most_common.shape[0] > 0:\n",
    "                most_common_val = most_common[0, col]\n",
    "                most_common_freq = most_common[0, \"count\"]\n",
    "                print(f\" - {col}: {unique_count} giá trị duy nhất, phổ biến nhất: '{most_common_val}' ({most_common_freq} lần)\")\n",
    "            else:\n",
    "                print(f\" - {col}: {unique_count} giá trị duy nhất, không có giá trị phổ biến\")\n",
    "\n",
    "        except Exception as e:\n",
    "            print(f\"Lỗi khi thống kê cột '{col}': {e}\")\n",
    "\"\"\""
   ]
  },
  {
   "cell_type": "markdown",
   "id": "b7f40fdc",
   "metadata": {},
   "source": [
    "TASK 1: Loại bỏ các cột không cần thiết. "
   ]
  },
  {
   "cell_type": "code",
   "execution_count": 29,
   "id": "46a22b88",
   "metadata": {},
   "outputs": [
    {
     "name": "stdout",
     "output_type": "stream",
     "text": [
      "\n",
      "[ SALES ITEM ]\n",
      " - Các cột sẽ bị loại bỏ: ['is_deleted', 'last_sync_date', 'sync_error_message', 'image_url', 'description_new', 'weight', 'sync_status_id', 'p_id', 'item_id', 'category_l1_id', 'category_l2_id', 'category_l3_id', 'category_id', 'description', 'manufacturer', 'is_deleted', 'item_id', 'is_deleted', 'sync_status_id', 'last_sync_date', 'sync_error_message']\n",
      " - Kích thước mới: 27,332 rows × 19 columns\n",
      "\n",
      "[ SALES PURCHASE ]\n",
      " - Các cột sẽ bị loại bỏ: ['is_deleted', 'item_id', 'is_deleted', 'event_type', 'user_id', 'item_id', 'customer_id', 'is_deleted', 'customer_id', 'user_id']\n",
      " - Kích thước mới: 35,729,825 rows × 11 columns\n",
      "\n",
      "[ SALES USER ]\n",
      " - Các cột sẽ bị loại bỏ: ['is_deleted', 'last_sync_date', 'sync_error_message', 'sync_status_id', 'is_deleted', 'user_id', 'customer_id', 'is_deleted', 'sync_status_id', 'last_sync_date', 'sync_error_message', 'customer_id', 'user_id']\n",
      " - Kích thước mới: 4,573,964 rows × 12 columns\n"
     ]
    }
   ],
   "source": [
    "# Danh sách các cột cần loại bỏ\n",
    "cols_to_drop = [\n",
    "    # SALES ITEM\n",
    "    \"is_deleted\",\n",
    "    \"last_sync_date\",\n",
    "    \"sync_error_message\",\n",
    "    \"image_url\",\n",
    "    \"description_new\",\n",
    "    \"weight\",\n",
    "    \"sync_status_id\",\n",
    "    \"p_id\",\n",
    "    \"item_id\",\n",
    "    \"category_l1_id\",\n",
    "    \"category_l2_id\",\n",
    "    \"category_l3_id\",\n",
    "    \"category_id\",\n",
    "    \"description\",\n",
    "    \"manufacturer\",\n",
    "\n",
    "    # SALES PURCHASE\n",
    "    \"is_deleted\",\n",
    "    \"event_type\",\n",
    "    \"user_id\",\n",
    "    \"item_id\",\n",
    "    \"customer_id\",\n",
    "\n",
    "    # SALES USER\n",
    "    \"is_deleted\",\n",
    "    \"sync_status_id\",\n",
    "    \"last_sync_date\",\n",
    "    \"sync_error_message\",\n",
    "    \"customer_id\",\n",
    "    \"user_id\"\n",
    "]\n",
    "\n",
    "# Lặp qua từng DataFrame trong datasets\n",
    "for name, df in datasets.items():\n",
    "    if df is None:\n",
    "        continue\n",
    "\n",
    "    print(f\"\\n[ {name} ]\")\n",
    "    existing_cols = [c for c in cols_to_drop if c in df.columns]\n",
    "\n",
    "    if existing_cols:\n",
    "        print(f\" - Các cột sẽ bị loại bỏ: {existing_cols}\")\n",
    "        df = df.drop(existing_cols)\n",
    "        datasets[name] = df  # Cập nhật lại DataFrame sau khi loại bỏ\n",
    "    else:\n",
    "        print(\" - Không có cột nào trong danh sách cần loại bỏ.\")\n",
    "\n",
    "    print(f\" - Kích thước mới: {df.shape[0]:,} rows × {df.shape[1]} columns\")\n"
   ]
  },
  {
   "cell_type": "markdown",
   "id": "adb2f1aa",
   "metadata": {},
   "source": [
    "TASK 2.1: Xử lý NULL"
   ]
  },
  {
   "cell_type": "code",
   "execution_count": 30,
   "id": "489e1c4f",
   "metadata": {},
   "outputs": [],
   "source": [
    "# Trong lúc xóa các cột thì các giá trị null đã bị loại bỏ rồi!"
   ]
  },
  {
   "cell_type": "markdown",
   "id": "d71c0472",
   "metadata": {},
   "source": [
    "TASK 2.2: Xử lý Outlier"
   ]
  },
  {
   "cell_type": "code",
   "execution_count": null,
   "id": "6aa80034",
   "metadata": {},
   "outputs": [],
   "source": []
  },
  {
   "cell_type": "markdown",
   "id": "40f0addb",
   "metadata": {},
   "source": [
    "TASK 3:"
   ]
  },
  {
   "cell_type": "code",
   "execution_count": null,
   "id": "9c5ebdf6",
   "metadata": {},
   "outputs": [],
   "source": []
  },
  {
   "cell_type": "markdown",
   "id": "92efdc40",
   "metadata": {},
   "source": [
    "TASK 4:"
   ]
  },
  {
   "cell_type": "code",
   "execution_count": null,
   "id": "4dee9831",
   "metadata": {},
   "outputs": [],
   "source": []
  },
  {
   "cell_type": "markdown",
   "id": "c04cb4ab",
   "metadata": {},
   "source": [
    "TASK 5:"
   ]
  },
  {
   "cell_type": "code",
   "execution_count": null,
   "id": "d6e3080b",
   "metadata": {},
   "outputs": [],
   "source": []
  },
  {
   "cell_type": "markdown",
   "id": "4d2b7255",
   "metadata": {},
   "source": [
    "[TEST] - IN RA DỮ LIỆU ĐỂ ĐỌC"
   ]
  },
  {
   "cell_type": "code",
   "execution_count": 31,
   "id": "f0eb3b48",
   "metadata": {},
   "outputs": [
    {
     "data": {
      "text/plain": [
       "'\\nfor name, df in datasets.items():\\n    if df is None:\\n        continue\\n\\n    print(f\"\\n[ {name} ]\")\\n    print(f\"Shape: {df.shape[0]:,} rows × {df.shape[1]} columns\")\\n    print(\"Columns:\", df.columns)\\n\\n    print(\"\\nThống kê tất cả các cột:\")\\n    for col in df.columns:\\n        try:\\n            # Ép kiểu về chuỗi để thống kê phổ biến\\n            col_str = df[col].cast(pl.Utf8).drop_nulls()\\n            unique_count = col_str.n_unique()\\n            most_common = col_str.value_counts().sort(\"count\", descending=True).head(1)\\n\\n            if most_common.shape[0] > 0:\\n                most_common_val = most_common[0, col]\\n                most_common_freq = most_common[0, \"count\"]\\n                print(f\" - {col}: {unique_count} giá trị duy nhất, phổ biến nhất: \\'{most_common_val}\\' ({most_common_freq} lần)\")\\n            else:\\n                print(f\" - {col}: {unique_count} giá trị duy nhất, không có giá trị phổ biến\")\\n\\n        except Exception as e:\\n            print(f\"Lỗi khi thống kê cột \\'{col}\\': {e}\")\\n'"
      ]
     },
     "execution_count": 31,
     "metadata": {},
     "output_type": "execute_result"
    }
   ],
   "source": [
    "# Thống kê tất cả các cột trong từng bảng ()\n",
    "# Tháo docstring (\"\"\") ra để chạy thử, nhưng khá lâu!\n",
    "# Khỏi chạy nếu không cần thiết!\n",
    "\n",
    "\"\"\"\n",
    "for name, df in datasets.items():\n",
    "    if df is None:\n",
    "        continue\n",
    "\n",
    "    print(f\"\\n[ {name} ]\")\n",
    "    print(f\"Shape: {df.shape[0]:,} rows × {df.shape[1]} columns\")\n",
    "    print(\"Columns:\", df.columns)\n",
    "\n",
    "    print(\"\\nThống kê tất cả các cột:\")\n",
    "    for col in df.columns:\n",
    "        try:\n",
    "            # Ép kiểu về chuỗi để thống kê phổ biến\n",
    "            col_str = df[col].cast(pl.Utf8).drop_nulls()\n",
    "            unique_count = col_str.n_unique()\n",
    "            most_common = col_str.value_counts().sort(\"count\", descending=True).head(1)\n",
    "\n",
    "            if most_common.shape[0] > 0:\n",
    "                most_common_val = most_common[0, col]\n",
    "                most_common_freq = most_common[0, \"count\"]\n",
    "                print(f\" - {col}: {unique_count} giá trị duy nhất, phổ biến nhất: '{most_common_val}' ({most_common_freq} lần)\")\n",
    "            else:\n",
    "                print(f\" - {col}: {unique_count} giá trị duy nhất, không có giá trị phổ biến\")\n",
    "\n",
    "        except Exception as e:\n",
    "            print(f\"Lỗi khi thống kê cột '{col}': {e}\")\n",
    "\"\"\""
   ]
  }
 ],
 "metadata": {
  "kernelspec": {
   "display_name": "Python 3",
   "language": "python",
   "name": "python3"
  },
  "language_info": {
   "codemirror_mode": {
    "name": "ipython",
    "version": 3
   },
   "file_extension": ".py",
   "mimetype": "text/x-python",
   "name": "python",
   "nbconvert_exporter": "python",
   "pygments_lexer": "ipython3",
   "version": "3.13.5"
  }
 },
 "nbformat": 4,
 "nbformat_minor": 5
}
